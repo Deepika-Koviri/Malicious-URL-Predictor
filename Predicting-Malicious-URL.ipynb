{
 "cells": [
  {
   "cell_type": "markdown",
   "id": "e9d662a2-8491-4338-a483-95c966e400f8",
   "metadata": {},
   "source": [
    "# Malicious URL Predictor In Data Science"
   ]
  },
  {
   "cell_type": "code",
   "execution_count": 3,
   "id": "65ad432f-b993-47fd-a005-d751cbf09d89",
   "metadata": {},
   "outputs": [
    {
     "name": "stdout",
     "output_type": "stream",
     "text": [
      "Accuracy: 0.0000\n",
      "Prediction for http://malicious-site.com: 1\n"
     ]
    }
   ],
   "source": [
    "import pandas as pd\n",
    "import numpy as np\n",
    "import re\n",
    "import tldextract\n",
    "from urllib.parse import urlparse\n",
    "from sklearn.model_selection import train_test_split\n",
    "from sklearn.feature_extraction.text import TfidfVectorizer\n",
    "from sklearn.ensemble import RandomForestClassifier\n",
    "from sklearn.metrics import accuracy_score\n",
    "\n",
    "# Generate sample dataset\n",
    "def create_sample_data():\n",
    "    data = {\n",
    "        \"url\": [\n",
    "            \"http://example.com\",\n",
    "            \"https://secure-site.com\",\n",
    "            \"http://malicious-site.com\",\n",
    "            \"http://phishing-attack.net\",\n",
    "            \"https://trusted-source.org\",\n",
    "            \"http://random-suspicious-url.biz\"\n",
    "        ],\n",
    "        \"label\": [0, 0, 1, 1, 0, 1]  # 1 = Malicious, 0 = Safe\n",
    "    }\n",
    "    df = pd.DataFrame(data)\n",
    "    df.to_csv(\"malicious_urls.csv\", index=False)\n",
    "    return df\n",
    "\n",
    "# Sample dataset loading\n",
    "def load_data():\n",
    "    df = pd.read_csv('malicious_urls.csv')\n",
    "    return df\n",
    "\n",
    "# Feature extraction functions\n",
    "def extract_features(df):\n",
    "    df['url_length'] = df['url'].apply(lambda x: len(x))\n",
    "    df['num_digits'] = df['url'].apply(lambda x: sum(c.isdigit() for c in x))\n",
    "    df['num_special_chars'] = df['url'].apply(lambda x: len(re.findall(r'[^a-zA-Z0-9]', x)))\n",
    "    df['domain'] = df['url'].apply(lambda x: tldextract.extract(x).domain)\n",
    "    df['has_https'] = df['url'].apply(lambda x: 1 if 'https' in x else 0)\n",
    "    return df\n",
    "\n",
    "# Preprocessing and vectorization\n",
    "def preprocess_data(df):\n",
    "    vectorizer = TfidfVectorizer()\n",
    "    X_text = vectorizer.fit_transform(df['url'])\n",
    "    X_numeric = df[['url_length', 'num_digits', 'num_special_chars', 'has_https']]\n",
    "    X = np.hstack((X_text.toarray(), X_numeric))\n",
    "    y = df['label']\n",
    "    return X, y, vectorizer\n",
    "\n",
    "# Model training\n",
    "def train_model(X, y):\n",
    "    X_train, X_test, y_train, y_test = train_test_split(X, y, test_size=0.2, random_state=42)\n",
    "    model = RandomForestClassifier(n_estimators=100, random_state=42)\n",
    "    model.fit(X_train, y_train)\n",
    "    y_pred = model.predict(X_test)\n",
    "    print(f'Accuracy: {accuracy_score(y_test, y_pred):.4f}')\n",
    "    return model\n",
    "\n",
    "# Predicting new URL\n",
    "def predict_url(model, vectorizer, url):\n",
    "    features = extract_features(pd.DataFrame({'url': [url]}))\n",
    "    X_text = vectorizer.transform([url]).toarray()\n",
    "    X_numeric = features[['url_length', 'num_digits', 'num_special_chars', 'has_https']].values\n",
    "    X = np.hstack((X_text, X_numeric))\n",
    "    return model.predict(X)[0]\n",
    "\n",
    "# Main Execution\n",
    "df = create_sample_data()\n",
    "df = load_data()\n",
    "df = extract_features(df)\n",
    "X, y, vectorizer = preprocess_data(df)\n",
    "model = train_model(X, y)\n",
    "\n",
    "# Test Prediction\n",
    "url_to_test = 'http://malicious-site.com'\n",
    "print(f'Prediction for {url_to_test}:', predict_url(model, vectorizer, url_to_test))\n"
   ]
  },
  {
   "cell_type": "code",
   "execution_count": null,
   "id": "b3d5733f-3cfd-4d4a-8559-6df89cb5377b",
   "metadata": {},
   "outputs": [],
   "source": []
  }
 ],
 "metadata": {
  "kernelspec": {
   "display_name": "Python 3 (ipykernel)",
   "language": "python",
   "name": "python3"
  },
  "language_info": {
   "codemirror_mode": {
    "name": "ipython",
    "version": 3
   },
   "file_extension": ".py",
   "mimetype": "text/x-python",
   "name": "python",
   "nbconvert_exporter": "python",
   "pygments_lexer": "ipython3",
   "version": "3.11.7"
  }
 },
 "nbformat": 4,
 "nbformat_minor": 5
}
